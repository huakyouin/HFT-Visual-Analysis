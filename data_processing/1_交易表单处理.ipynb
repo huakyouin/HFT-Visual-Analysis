{
 "cells": [
  {
   "attachments": {},
   "cell_type": "markdown",
   "metadata": {},
   "source": [
    " python version：3.8   \n",
    " modules：pandas openpyxl\n",
    "\n",
    "读取原始交易表单"
   ]
  },
  {
   "cell_type": "code",
   "execution_count": 7,
   "metadata": {},
   "outputs": [],
   "source": [
    "import pandas as pd\n",
    "filename=\"BINANCE_SWAP_BTC-USDT订单状态列表-data-2022-08-26 10_22_34.csv\"\n",
    "head_row = pd.read_csv(filename, nrows=0)\n",
    "csv_result = pd.read_csv(filename, usecols=head_row)"
   ]
  },
  {
   "attachments": {},
   "cell_type": "markdown",
   "metadata": {},
   "source": [
    "处理"
   ]
  },
  {
   "cell_type": "code",
   "execution_count": 2,
   "metadata": {},
   "outputs": [],
   "source": [
    "'''订单的状态属性\n",
    "Time                时间信息\n",
    "purpose             ['close' 'sync' 'open'] \n",
    "status              ['PENDING' 'OPENED' 'PARTIAL_FILLED' 'CANCELED' 'FULL_FILLED']\n",
    "order_id            订单编号\n",
    "client_id           一次交易完整周期的编号\n",
    "source_type         信息发生来源\n",
    "currency            币类型\n",
    "'''\n",
    "\n",
    "'''订单发生时的市场属性\n",
    "price               币的价格\n",
    "'''\n",
    "\n",
    "'''订单中体现决策的属性\n",
    "size                订单下单大小\n",
    "filled_size         订单实际成交量\n",
    "usd_size            一笔订单的美金价值\n",
    "'''\n",
    "\n",
    "choose_col=['Time','purpose','status','client_id','source_type','currency','price','filled_size','size','usd_size']\n",
    "df=csv_result[choose_col]\n",
    "start=csv_result[choose_col].drop_duplicates(subset=['client_id'],keep='first').reset_index(drop=True)\n",
    "tot=df[(df.status=='CANCELED')|(df.status=='FULL_FILLED')].reset_index(drop=True)\n",
    "tot['T']=(pd.to_datetime(tot.Time)-pd.to_datetime(start.iloc[0:len(tot)].Time)).dt.seconds\n",
    "tot['start time']=start.iloc[0:len(tot)].Time\n",
    "\n",
    "## 实际美元变动\n",
    "tot['filled_usd_size']= tot['usd_size'] * tot['filled_size']/tot['size']\n",
    "# 通过 loc 将FTT交易对美元资产影响排除\n",
    "tot.loc[tot['currency'] == 'FTT', 'filled_usd_size'] = 0"
   ]
  },
  {
   "cell_type": "markdown",
   "metadata": {},
   "source": [
    "保存处理结果"
   ]
  },
  {
   "cell_type": "code",
   "execution_count": 19,
   "metadata": {},
   "outputs": [],
   "source": [
    "import os\n",
    "if not os.path.exists('../cache/'):\n",
    "    os.makedirs('../cache/')\n",
    "tot.to_excel('../cache/交易结果表单2.xlsx',index=False)"
   ]
  }
 ],
 "metadata": {
  "kernelspec": {
   "display_name": "Python 3.8.8 ('base')",
   "language": "python",
   "name": "python3"
  },
  "language_info": {
   "codemirror_mode": {
    "name": "ipython",
    "version": 3
   },
   "file_extension": ".py",
   "mimetype": "text/x-python",
   "name": "python",
   "nbconvert_exporter": "python",
   "pygments_lexer": "ipython3",
   "version": "3.8.8"
  },
  "orig_nbformat": 4,
  "vscode": {
   "interpreter": {
    "hash": "c6dc47ed52be77767ca04354fe6b66fe15b569d4eb17d13051d7217fb5a5c1b9"
   }
  }
 },
 "nbformat": 4,
 "nbformat_minor": 2
}
