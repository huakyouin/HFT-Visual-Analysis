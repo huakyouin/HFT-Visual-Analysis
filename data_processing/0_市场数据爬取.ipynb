{
 "cells": [
  {
   "attachments": {},
   "cell_type": "markdown",
   "metadata": {},
   "source": [
    " python version：3.8   \n",
    " modules：oss2 tables pandas\n",
    "\n",
    " 爬取"
   ]
  },
  {
   "cell_type": "code",
   "execution_count": null,
   "metadata": {},
   "outputs": [],
   "source": [
    "import oss2\n",
    "import pandas as pd\n",
    "import os\n",
    "def CrawlMarketData(Name,cache_dir):\n",
    "    endpoint = 'http://oss-accelerate.aliyuncs.com' # Suppose that your bucket is in the Hangzhou region.\n",
    "    auth = oss2.Auth('LTAI5t8bRHxS4LkquJ4ogWdz', '0pOTxB9RDAxiuzNvEOfGVSXAcmvFne')\n",
    "    bucket = oss2.Bucket(auth, endpoint, 'exdata-tokyo')\n",
    "    key='BINANCE_SPOT_'+Name+'-USDT_DEPTH5_2022_08_26.hdf'\n",
    "    if not os.path.exists(cache_dir):\n",
    "        os.makedirs(cache_dir)\n",
    "    bucket.get_object_to_file(key,cache_dir+Name+'_Trade.hdf')\n",
    "\n",
    "cache_dir='../cache/'  ## 缓存文件父路径\n",
    "CrawlMarketData('BTC',cache_dir)\n",
    "CrawlMarketData('BNB',cache_dir)\n",
    "CrawlMarketData('ETH',cache_dir)\n",
    "# CrawlMarketData('FTT',cache_dir)  ## 没有找到FTT币种的市场数据"
   ]
  },
  {
   "cell_type": "markdown",
   "metadata": {},
   "source": [
    "只读取"
   ]
  },
  {
   "cell_type": "code",
   "execution_count": 3,
   "metadata": {},
   "outputs": [
    {
     "name": "stdout",
     "output_type": "stream",
     "text": [
      "        bid1_price  bid1_vol  ask1_price  ask1_vol  bid2_price  bid2_vol  \\\n",
      "0            301.2    82.150       301.3   155.434       301.1   149.960   \n",
      "1            301.2    82.150       301.3   155.365       301.1   149.960   \n",
      "2            301.2    82.150       301.3   155.365       301.1   149.960   \n",
      "3            301.2    82.150       301.3   155.365       301.1   149.960   \n",
      "4            301.2    82.150       301.3   155.365       301.1   149.960   \n",
      "...            ...       ...         ...       ...         ...       ...   \n",
      "723295       279.5    27.995       279.6   165.790       279.4   153.718   \n",
      "723296       279.5    50.924       279.6   166.299       279.4   147.247   \n",
      "723297       279.5    57.393       279.6   203.538       279.4   109.933   \n",
      "723298       279.5    57.393       279.6   199.704       279.4   107.208   \n",
      "723299       279.5    57.393       279.6   167.962       279.4   107.208   \n",
      "\n",
      "        ask2_price  ask2_vol  bid3_price  bid3_vol  ...  bid4_price  bid4_vol  \\\n",
      "0            301.4   103.690       301.0   103.082  ...       300.9    85.663   \n",
      "1            301.4   103.690       301.0   103.082  ...       300.9    85.663   \n",
      "2            301.4   103.690       301.0   103.082  ...       300.9    85.663   \n",
      "3            301.4   103.690       301.0   103.082  ...       300.9    85.663   \n",
      "4            301.4   103.690       301.0   103.082  ...       300.9    85.663   \n",
      "...            ...       ...         ...       ...  ...         ...       ...   \n",
      "723295       279.7   119.479       279.3    99.222  ...       279.2    78.230   \n",
      "723296       279.7   119.479       279.3   106.830  ...       279.2    76.340   \n",
      "723297       279.7    99.004       279.3   106.830  ...       279.2    80.960   \n",
      "723298       279.7   100.387       279.3   106.830  ...       279.2    80.960   \n",
      "723299       279.7    93.315       279.3   106.830  ...       279.2    80.960   \n",
      "\n",
      "        ask4_price  ask4_vol  bid5_price  bid5_vol  ask5_price  ask5_vol  \\\n",
      "0            301.6    78.915       300.8    94.482       301.7    68.316   \n",
      "1            301.6    78.915       300.8    94.482       301.7    68.316   \n",
      "2            301.6    78.915       300.8    94.482       301.7    68.316   \n",
      "3            301.6    78.915       300.8    94.482       301.7    68.316   \n",
      "4            301.6    78.915       300.8    94.482       301.7    68.316   \n",
      "...            ...       ...         ...       ...         ...       ...   \n",
      "723295       279.9    88.597       279.1    86.635       280.0   205.603   \n",
      "723296       279.9    88.597       279.1    86.635       280.0   217.080   \n",
      "723297       279.9    88.597       279.1    86.635       280.0   228.557   \n",
      "723298       279.9    88.597       279.1    86.635       280.0   228.557   \n",
      "723299       279.9    88.597       279.1    63.681       280.0   228.557   \n",
      "\n",
      "                 time     local_time  \n",
      "0       1661471989301  1661471989301  \n",
      "1       1661471989401  1661471989401  \n",
      "2       1661471989588  1661471989588  \n",
      "3       1661471989688  1661471989688  \n",
      "4       1661471989789  1661471989789  \n",
      "...               ...            ...  \n",
      "723295  1661558395060  1661558395060  \n",
      "723296  1661558395160  1661558395160  \n",
      "723297  1661558395261  1661558395261  \n",
      "723298  1661558395360  1661558395360  \n",
      "723299  1661558395460  1661558395460  \n",
      "\n",
      "[723300 rows x 22 columns]\n"
     ]
    }
   ],
   "source": [
    "import pandas as pd\n",
    "dir='../cache/'\n",
    "data = pd.read_hdf(dir+'BNB_Trade.hdf', 'data')\n",
    "print(data)"
   ]
  }
 ],
 "metadata": {
  "kernelspec": {
   "display_name": "Python 3.8.8 ('base')",
   "language": "python",
   "name": "python3"
  },
  "language_info": {
   "codemirror_mode": {
    "name": "ipython",
    "version": 3
   },
   "file_extension": ".py",
   "mimetype": "text/x-python",
   "name": "python",
   "nbconvert_exporter": "python",
   "pygments_lexer": "ipython3",
   "version": "3.8.8"
  },
  "orig_nbformat": 4,
  "vscode": {
   "interpreter": {
    "hash": "c6dc47ed52be77767ca04354fe6b66fe15b569d4eb17d13051d7217fb5a5c1b9"
   }
  }
 },
 "nbformat": 4,
 "nbformat_minor": 2
}
