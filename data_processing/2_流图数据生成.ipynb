{
 "cells": [
  {
   "attachments": {},
   "cell_type": "markdown",
   "metadata": {},
   "source": [
    " python version：3.8   \n",
    " modules：pandas\n",
    "\n",
    "这个文件主要负责处理流图所需数据\n",
    "\n",
    "流图展示资产变动，需要的数据为每一时刻每个币种的价值\n",
    "\n",
    "某时刻某币价值=某币持有数*某时刻单价\n",
    "\n",
    "现简单考虑，用最低交易所收购价格(bid1_price)作为那一时刻单价"
   ]
  },
  {
   "cell_type": "markdown",
   "metadata": {},
   "source": [
    "1. 读取数据"
   ]
  },
  {
   "cell_type": "code",
   "execution_count": 1,
   "metadata": {},
   "outputs": [],
   "source": [
    "import os\n",
    "import pandas as pd\n",
    "dir='../cache/'\n",
    "BTC_data = pd.read_hdf(dir+'BTC_Trade.hdf', 'data')\n",
    "BNB_data = pd.read_hdf(dir+'BNB_Trade.hdf', 'data')\n",
    "ETH_data = pd.read_hdf(dir+'ETH_Trade.hdf', 'data')\n",
    "deal=pd.read_excel(dir+'交易结果表单2.xlsx')"
   ]
  },
  {
   "cell_type": "markdown",
   "metadata": {},
   "source": [
    "2. 合并"
   ]
  },
  {
   "cell_type": "code",
   "execution_count": 2,
   "metadata": {},
   "outputs": [],
   "source": [
    "import pandas as pd\n",
    "import time\n",
    "def Merge(deal,market_data):\n",
    "    '''\n",
    "    deal：交易表单，其中Time字段元素为交易完成时间，start time元素为交易发起时间，filled_size表示实际成交量\n",
    "    market_data：市场数据，其中bid1_price表示交易所最低收购价格\n",
    "    '''\n",
    "\n",
    "    ## 合并相同时刻记录\n",
    "    deal=deal.groupby(['Time']).agg({'filled_size': 'sum','size': 'sum'})\n",
    "\n",
    "    ## 计算累积持有量\n",
    "    deal['holdings']=deal['filled_size'].cumsum()\n",
    "\n",
    "\n",
    "    ## 重采样填充时间轴上的空缺\n",
    "    deal.index=pd.to_datetime(deal.index)\n",
    "    deal=deal.resample('1S').ffill()\n",
    "\n",
    "    ## 时间转化为时间戳\n",
    "    deal.reset_index(inplace=True)\n",
    "    deal['time']=(pd.to_datetime(deal['Time']).astype('int64')//1e9).astype('int64')\n",
    "\n",
    "    ## 市场数据时间戳调整为10位\n",
    "    market_data['time']=market_data['time'].astype('str').str.slice(0,10).astype('int64')\n",
    "\n",
    "    ## 去除市场数据时间戳重复\n",
    "    market_data=market_data.drop_duplicates(subset=['time'],keep='first')\n",
    "\n",
    "    ## 跟市场数据的数据框按时间戳进行合并\n",
    "    merged_df=pd.merge(deal, market_data, on='time', how='left')\n",
    "    # print(merged_df.isnull().sum()) ## 检查是否有nan\n",
    "    ## 计算各个时刻持有价值\n",
    "    merged_df['value'] =  merged_df['holdings'] * merged_df['bid1_price']\n",
    "\n",
    "    ## 输出关键字段\n",
    "    return merged_df[['time','holdings','bid1_price','value']]\n",
    "\n",
    "BTCdf=Merge(deal[deal.currency=='BTC'],BTC_data)\n",
    "BNBdf=Merge(deal[deal.currency=='BNB'],BNB_data)\n",
    "ETHdf=Merge(deal[deal.currency=='ETH'],ETH_data)\n",
    "    "
   ]
  },
  {
   "cell_type": "code",
   "execution_count": 3,
   "metadata": {},
   "outputs": [],
   "source": [
    "columns=['holdings','bid1_price','value']\n",
    "for Name in ('BTC','BNB','ETH'):\n",
    "    globals()[Name+'df'].columns=['time']+[Name+' '+c for c in columns]\n",
    "result=pd.merge(BTCdf,BNBdf,on='time', how='outer')\n",
    "result=pd.merge(result,ETHdf,on='time', how='outer')\n",
    "\n",
    "'''\n",
    "流图要的数据\n",
    "'''\n",
    "result.fillna(method='ffill', inplace=True)\n",
    "result.fillna(0, inplace=True)\n",
    "#------------------------ 加入美元价值\n",
    "### 合并相同时刻记录\n",
    "USD=deal.groupby(['Time']).agg({'filled_usd_size': 'sum'})\n",
    "### 计算累积持有量\n",
    "USD['usd value']=-USD['filled_usd_size'].cumsum()\n",
    "### 重采样填充时间轴上的空缺\n",
    "USD.index=pd.to_datetime(USD.index)\n",
    "USD=USD.resample('1S').ffill()\n",
    "### 时间转化为时间戳\n",
    "USD.reset_index(inplace=True)\n",
    "USD['time']=(pd.to_datetime(USD['Time']).astype('int64')//1e9).astype('int64')\n",
    "result=pd.merge(result,USD[['time','usd value']],on='time',how='left')\n",
    "result['bias usd value']=result['usd value']-result['usd value'].min()\n",
    "#------------------------\n",
    "for Name in ('BTC','BNB','ETH'):\n",
    "    result['bias '+Name+' value']=result[Name+' value']-result[Name+' value'].min()\n",
    "result.to_csv('../frontend/public/dataset/流图数据.csv',index=False)"
   ]
  }
 ],
 "metadata": {
  "kernelspec": {
   "display_name": "Python 3.8.8 ('base')",
   "language": "python",
   "name": "python3"
  },
  "language_info": {
   "codemirror_mode": {
    "name": "ipython",
    "version": 3
   },
   "file_extension": ".py",
   "mimetype": "text/x-python",
   "name": "python",
   "nbconvert_exporter": "python",
   "pygments_lexer": "ipython3",
   "version": "3.8.8"
  },
  "orig_nbformat": 4,
  "vscode": {
   "interpreter": {
    "hash": "c6dc47ed52be77767ca04354fe6b66fe15b569d4eb17d13051d7217fb5a5c1b9"
   }
  }
 },
 "nbformat": 4,
 "nbformat_minor": 2
}
